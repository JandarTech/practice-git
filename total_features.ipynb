{
 "cells": [
  {
   "metadata": {},
   "cell_type": "markdown",
   "source": "## Fizz",
   "id": "118c739ca3952bd4"
  },
  {
   "metadata": {
    "ExecuteTime": {
     "end_time": "2025-04-23T08:38:12.292659Z",
     "start_time": "2025-04-23T08:38:12.289455Z"
    }
   },
   "cell_type": "code",
   "source": [
    "for i in range(1, 21):\n",
    "    if i % 3 == 0:\n",
    "        print(\"Fizz\")\n",
    "    else:\n",
    "        print(i)"
   ],
   "id": "2f3b486395a3365",
   "outputs": [
    {
     "name": "stdout",
     "output_type": "stream",
     "text": [
      "1\n",
      "2\n",
      "Fizz\n",
      "4\n",
      "5\n",
      "Fizz\n",
      "7\n",
      "8\n",
      "Fizz\n",
      "10\n",
      "11\n",
      "Fizz\n",
      "13\n",
      "14\n",
      "Fizz\n",
      "16\n",
      "17\n",
      "Fizz\n",
      "19\n",
      "20\n"
     ]
    }
   ],
   "execution_count": 1
  },
  {
   "metadata": {},
   "cell_type": "markdown",
   "source": "## Buzz",
   "id": "8369f6c72a915742"
  },
  {
   "metadata": {
    "ExecuteTime": {
     "end_time": "2025-04-23T08:38:12.404603Z",
     "start_time": "2025-04-23T08:38:12.402499Z"
    }
   },
   "cell_type": "code",
   "source": [
    "for i in range(1, 21):\n",
    "    if i % 5 == 0:\n",
    "        print(\"Buzz\")\n",
    "    else:\n",
    "        print(i)"
   ],
   "id": "c1672ee42c96b70f",
   "outputs": [
    {
     "name": "stdout",
     "output_type": "stream",
     "text": [
      "1\n",
      "2\n",
      "3\n",
      "4\n",
      "Buzz\n",
      "6\n",
      "7\n",
      "8\n",
      "9\n",
      "Buzz\n",
      "11\n",
      "12\n",
      "13\n",
      "14\n",
      "Buzz\n",
      "16\n",
      "17\n",
      "18\n",
      "19\n",
      "Buzz\n"
     ]
    }
   ],
   "execution_count": 2
  },
  {
   "metadata": {},
   "cell_type": "markdown",
   "source": "## FizzBuzz",
   "id": "377492535ce87ff"
  },
  {
   "metadata": {
    "ExecuteTime": {
     "end_time": "2025-04-23T08:38:12.412699Z",
     "start_time": "2025-04-23T08:38:12.410833Z"
    }
   },
   "cell_type": "code",
   "source": [
    "for i in range(1, 21):\n",
    "    if i % 3 == 0 and i % 5 == 0:\n",
    "        print(\"FizzBuzz\")\n",
    "    else:\n",
    "        print(i)"
   ],
   "id": "9ba0e335c3c37178",
   "outputs": [
    {
     "name": "stdout",
     "output_type": "stream",
     "text": [
      "1\n",
      "2\n",
      "3\n",
      "4\n",
      "5\n",
      "6\n",
      "7\n",
      "8\n",
      "9\n",
      "10\n",
      "11\n",
      "12\n",
      "13\n",
      "14\n",
      "FizzBuzz\n",
      "16\n",
      "17\n",
      "18\n",
      "19\n",
      "20\n"
     ]
    }
   ],
   "execution_count": 3
  }
 ],
 "metadata": {
  "kernelspec": {
   "display_name": "Python 3",
   "language": "python",
   "name": "python3"
  },
  "language_info": {
   "codemirror_mode": {
    "name": "ipython",
    "version": 2
   },
   "file_extension": ".py",
   "mimetype": "text/x-python",
   "name": "python",
   "nbconvert_exporter": "python",
   "pygments_lexer": "ipython2",
   "version": "2.7.6"
  }
 },
 "nbformat": 4,
 "nbformat_minor": 5
}
